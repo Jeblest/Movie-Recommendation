{
 "cells": [
  {
   "cell_type": "code",
   "execution_count": 1,
   "metadata": {},
   "outputs": [],
   "source": [
    "import pandas as pd\n"
   ]
  },
  {
   "cell_type": "code",
   "execution_count": 6,
   "metadata": {},
   "outputs": [],
   "source": [
    "df_movies = pd.read_csv(\"../data/TMDB_movie_dataset_v11.csv\")"
   ]
  },
  {
   "cell_type": "code",
   "execution_count": 7,
   "metadata": {},
   "outputs": [],
   "source": [
    "df_shows = pd.read_csv(\"../data/TMDB_tv_dataset_v3.csv\")"
   ]
  },
  {
   "cell_type": "markdown",
   "metadata": {},
   "source": [
    "Movie dataset preprocessing"
   ]
  },
  {
   "cell_type": "code",
   "execution_count": 8,
   "metadata": {},
   "outputs": [],
   "source": [
    "df_movies.set_index(\"id\", inplace=True)"
   ]
  },
  {
   "cell_type": "code",
   "execution_count": 9,
   "metadata": {},
   "outputs": [],
   "source": [
    "df_movies.rename(columns={\"production_countries\":\"origin_country\"}, inplace=True)"
   ]
  },
  {
   "cell_type": "code",
   "execution_count": 10,
   "metadata": {},
   "outputs": [],
   "source": [
    "#dropping features where the data is not available. Because I'm using them in the model they can't be filled with a default value\n",
    "drop_na = [\"title\",\"vote_average\",\"vote_count\",\"popularity\",\"genres\",\"overview\",\"keywords\"]\n",
    "df_movies = df_movies.dropna(subset=drop_na)"
   ]
  },
  {
   "cell_type": "code",
   "execution_count": 11,
   "metadata": {},
   "outputs": [],
   "source": [
    "def determine_type(row):\n",
    "    origin = row.get('origin_country', '')  # example: \"JP\", \"US\", etc.\n",
    "    genres = row.get('genres', [])\n",
    "        \n",
    "    # Check only for 'JP' as origin country\n",
    "    if origin == None :\n",
    "        return 'Classic'\n",
    "    elif origin == 'Japan' and 'Animation' in genres:\n",
    "        return 'Anime'\n",
    "    else:\n",
    "        return 'Classic'\n",
    "\n",
    "# Create new column \"type\"\n",
    "df_movies['content_category'] = df_movies.apply(determine_type, axis=1)"
   ]
  },
  {
   "cell_type": "code",
   "execution_count": 12,
   "metadata": {},
   "outputs": [],
   "source": [
    "def normalize_genres(genres):\n",
    "    if isinstance(genres, str):\n",
    "        return [g.strip() for g in genres.split(\",\")]\n",
    "    return genres\n",
    "df_movies[\"genres\"] = df_movies[\"genres\"].apply(normalize_genres)"
   ]
  },
  {
   "cell_type": "code",
   "execution_count": null,
   "metadata": {},
   "outputs": [],
   "source": [
    "df_movies[df_movies[\"content_category\"] == \"Anime\"]"
   ]
  },
  {
   "cell_type": "code",
   "execution_count": 14,
   "metadata": {},
   "outputs": [],
   "source": [
    "movie_features = [\"title\",\"vote_average\",\"vote_count\",\"popularity\",\"keywords\",\"genres\",\"overview\",\"origin_country\",\"content_category\"]\n",
    "df_movie_features = df_movies[movie_features]"
   ]
  },
  {
   "cell_type": "markdown",
   "metadata": {},
   "source": [
    "Show dataset preprocessing"
   ]
  },
  {
   "cell_type": "code",
   "execution_count": 15,
   "metadata": {},
   "outputs": [],
   "source": [
    "df_shows.set_index(\"id\", inplace=True)"
   ]
  },
  {
   "cell_type": "code",
   "execution_count": null,
   "metadata": {},
   "outputs": [],
   "source": [
    "df_shows.columns"
   ]
  },
  {
   "cell_type": "code",
   "execution_count": 17,
   "metadata": {},
   "outputs": [],
   "source": [
    "df_shows.rename(columns={\"name\":\"title\"}, inplace=True)"
   ]
  },
  {
   "cell_type": "code",
   "execution_count": 18,
   "metadata": {},
   "outputs": [],
   "source": [
    "drop_na = [\"title\",\"vote_average\",\"vote_count\",\"popularity\",\"genres\",\"overview\"]"
   ]
  },
  {
   "cell_type": "code",
   "execution_count": 19,
   "metadata": {},
   "outputs": [],
   "source": [
    "df_shows = df_shows.dropna(subset=drop_na)"
   ]
  },
  {
   "cell_type": "code",
   "execution_count": 20,
   "metadata": {},
   "outputs": [],
   "source": [
    "import re\n",
    "\n",
    "def clean_genres(genre_str):\n",
    "    if not isinstance(genre_str, str):\n",
    "        return []\n",
    "    \n",
    "    # Replace \" & \" with \", \" to split combined genres\n",
    "    genre_str = re.sub(r'\\s*&\\s*', ', ', genre_str)\n",
    "\n",
    "    # Split by comma and strip spaces\n",
    "    genres_list = [genre.strip() for genre in genre_str.split(\",\") if genre.strip()]\n",
    "    \n",
    "    return genres_list"
   ]
  },
  {
   "cell_type": "code",
   "execution_count": 21,
   "metadata": {},
   "outputs": [],
   "source": [
    "df_shows[\"genres\"] = df_shows[\"genres\"].apply(clean_genres)"
   ]
  },
  {
   "cell_type": "code",
   "execution_count": 22,
   "metadata": {},
   "outputs": [],
   "source": [
    "def determine_type(row):\n",
    "    origin = row.get('origin_country', '')  # example: \"JP\", \"US\", etc.\n",
    "    genres = row.get('genres', [])\n",
    "        \n",
    "    # Check only for 'JP' as origin country\n",
    "    if origin == None :\n",
    "        return 'Classic'\n",
    "    elif origin == 'JP' and 'Animation' in genres:\n",
    "        return 'Anime'\n",
    "    else:\n",
    "        return 'Classic'\n",
    "\n",
    "# Create new column \"type\"\n",
    "df_shows['content_category'] = df_shows.apply(determine_type, axis=1)"
   ]
  },
  {
   "cell_type": "code",
   "execution_count": 23,
   "metadata": {},
   "outputs": [],
   "source": [
    "show_features = [\"title\",\"vote_average\",\"vote_count\",\"popularity\",\"genres\",\"overview\",\"origin_country\",\"content_category\"]\n",
    "df_show_features = df_shows[show_features]"
   ]
  },
  {
   "cell_type": "code",
   "execution_count": null,
   "metadata": {},
   "outputs": [],
   "source": [
    "df_show_features[\"genres\"]"
   ]
  },
  {
   "cell_type": "markdown",
   "metadata": {},
   "source": [
    "Merge 2 feature datasets"
   ]
  },
  {
   "cell_type": "code",
   "execution_count": null,
   "metadata": {},
   "outputs": [],
   "source": [
    "df_show_features[\"type\"] = \"TV\"\n",
    "df_movie_features[\"type\"] = \"Movie\"\n",
    "merged_feature_df = pd.concat([df_movie_features, df_show_features],axis=0)"
   ]
  },
  {
   "cell_type": "code",
   "execution_count": 72,
   "metadata": {},
   "outputs": [],
   "source": [
    "merged_feature_df.to_pickle(\"../data./merged_feature_df.pkl\")"
   ]
  }
 ],
 "metadata": {
  "kernelspec": {
   "display_name": "movieRecEnv",
   "language": "python",
   "name": "python3"
  },
  "language_info": {
   "codemirror_mode": {
    "name": "ipython",
    "version": 3
   },
   "file_extension": ".py",
   "mimetype": "text/x-python",
   "name": "python",
   "nbconvert_exporter": "python",
   "pygments_lexer": "ipython3",
   "version": "3.10.15"
  }
 },
 "nbformat": 4,
 "nbformat_minor": 2
}
